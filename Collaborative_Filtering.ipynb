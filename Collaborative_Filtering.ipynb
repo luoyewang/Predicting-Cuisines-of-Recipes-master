{
 "cells": [
  {
   "cell_type": "code",
   "execution_count": null,
   "metadata": {},
   "outputs": [],
   "source": [
    "import numpy as np\n",
    "import math\n",
    "import pandas as pd\n",
    "import random\n",
    "import time\n",
    "from sklearn import metrics as mr\n",
    "from sklearn.decomposition import PCA"
   ]
  },
  {
   "cell_type": "markdown",
   "metadata": {},
   "source": [
    "# Similarity calculations"
   ]
  },
  {
   "cell_type": "code",
   "execution_count": null,
   "metadata": {},
   "outputs": [],
   "source": [
    "def CS_f(r_i, r_j):\n",
    "    CS_i_j = np.dot(r_i.T, r_j) / ((math.sqrt(np.dot(r_i.T, r_i)))\n",
    "                                   * ((math.sqrt(np.dot(r_j.T, r_j)))))\n",
    "    return CS_i_j\n",
    "\n",
    "\n",
    "def ACS_f(r_i, r_j):\n",
    "    a = 0.05\n",
    "    ACS_i_j = np.dot(r_i.T, r_j) / ((math.pow(np.dot(r_i.T, r_i), a))\n",
    "                                    * (math.pow(np.dot(r_j.T, r_j), 1 - a)))\n",
    "    return ACS_i_j\n",
    "\n",
    "\n",
    "def JS_f(r_i, r_j, mode=None):\n",
    "    if mode == 'BASE':\n",
    "        U = r_i + r_j\n",
    "        N = 0\n",
    "        for u in U:\n",
    "            if u > 0:\n",
    "                N = N + 1\n",
    "        JS_i_j = np.dot(r_i.T, r_j) / N\n",
    "\n",
    "    elif mode == 'PCA':\n",
    "        JS_i_j = np.dot(r_i.T, r_j) / (np.dot(r_i.T, r_i) * np.dot(r_j.T, r_j) - np.dot(r_i.T, r_j))\n",
    "    return JS_i_j\n",
    "\n",
    "\n",
    "def PMI_f(r_i, r_j, mode=None, v_i=None, v_j=None):\n",
    "    if mode == 'BASE':\n",
    "        p_i_j = np.dot(r_i.T, r_j) / len(r_i)\n",
    "        p_i = np.dot(r_i.T, r_i) / len(r_i)\n",
    "        p_j = np.dot(r_j.T, r_j) / len(r_j)\n",
    "        if p_i_j == 0:\n",
    "            PMI_i_j = 0\n",
    "        else:\n",
    "            PMI_i_j = math.log((p_i_j / (p_i * p_j)))\n",
    "\n",
    "    elif mode == 'PCA':\n",
    "        p_i_j = np.dot(r_i.T, r_j) / len(r_i)\n",
    "        p_i = np.dot(v_i.T, v_i) / len(v_i)\n",
    "        p_j = np.dot(v_j.T, v_j) / len(v_j)\n",
    "        PMI_i_j = p_i_j / (p_i * p_j)\n",
    "\n",
    "    return PMI_i_j"
   ]
  },
  {
   "cell_type": "markdown",
   "metadata": {},
   "source": [
    "# Get similarity matrix"
   ]
  },
  {
   "cell_type": "code",
   "execution_count": null,
   "metadata": {},
   "outputs": [],
   "source": [
    "def SIM_matrix(R, similarity_method):\n",
    "    SIM = np.zeros([R.shape[1], R.shape[1]])\n",
    "    if similarity_method == 'CS':\n",
    "        for i in range(SIM.shape[1]):\n",
    "            for j in range(SIM.shape[1]):\n",
    "                SIM[i, j] = CS_f(R.iloc[:, i], R.iloc[:, j])\n",
    "    elif similarity_method == 'ACS':\n",
    "        for i in range(SIM.shape[1]):\n",
    "            for j in range(SIM.shape[1]):\n",
    "                SIM[i, j] = ACS_f(R.iloc[:, i], R.iloc[:, j])\n",
    "    elif similarity_method == 'JS':\n",
    "        for i in range(SIM.shape[1]):\n",
    "            for j in range(SIM.shape[1]):\n",
    "                SIM[i, j] = JS_f(R.iloc[:, i], R.iloc[:, j], mode=current_mode)\n",
    "    elif similarity_method == 'PMI':\n",
    "        if current_mode == 'PCA':\n",
    "            base_data_for_pca_PMI = np.load('base_data_for_pca_PMI.npy')\n",
    "            base_data_for_pca_PMI = pd.DataFrame(base_data_for_pca_PMI)\n",
    "            for i in range(SIM.shape[1]):\n",
    "                for j in range(SIM.shape[1]):\n",
    "                    SIM[i, j] = PMI_f(R.iloc[:, i], R.iloc[:, j], mode=current_mode,\n",
    "                                      v_i=base_data_for_pca_PMI.iloc[:, i], \n",
    "                                      v_j=base_data_for_pca_PMI.iloc[:, j])\n",
    "        else:\n",
    "            for i in range(SIM.shape[1]):\n",
    "                for j in range(SIM.shape[1]):\n",
    "                    SIM[i, j] = PMI_f(R.iloc[:, i], R.iloc[:, j], mode=current_mode)\n",
    "\n",
    "    else:\n",
    "        print('Wrong similarity function choice')\n",
    "    return SIM"
   ]
  },
  {
   "cell_type": "markdown",
   "metadata": {},
   "source": [
    "# Get top-k-ingredient-index"
   ]
  },
  {
   "cell_type": "code",
   "execution_count": null,
   "metadata": {},
   "outputs": [],
   "source": [
    "def TOP_k_index(Sim_matrix, Row, K_ingredient):\n",
    "    Sim_matrix_i = Sim_matrix[Row, :]\n",
    "    Index = np.argsort(Sim_matrix_i)[::-1]\n",
    "    Top_k = Index[:K_ingredient]\n",
    "    Top_k = Top_k.tolist()\n",
    "\n",
    "    if Row in Top_k:\n",
    "        Top_k.remove(Row)\n",
    "        Top_k.append(Index[K_ingredient])\n",
    "\n",
    "    return Top_k"
   ]
  },
  {
   "cell_type": "markdown",
   "metadata": {},
   "source": [
    "# Random delete (with seed)"
   ]
  },
  {
   "cell_type": "code",
   "execution_count": null,
   "metadata": {},
   "outputs": [],
   "source": [
    "def random_delete_index(df_renamed_rev_test, test_index):\n",
    "    rand_delete_index_dict = dict()\n",
    "\n",
    "    random.seed(233)\n",
    "\n",
    "    for i in test_index:\n",
    "        recipe_vec = df_renamed_rev_test.iloc[i]\n",
    "        index = [i for i in range(len(recipe_vec)) if recipe_vec[i] == 1]\n",
    "        rand_delete_index_dict[i] = random.sample(index, 1)[0]\n",
    "\n",
    "    return rand_delete_index_dict"
   ]
  },
  {
   "cell_type": "markdown",
   "metadata": {},
   "source": [
    "# Get top N(10) ingredients recommendation"
   ]
  },
  {
   "cell_type": "code",
   "execution_count": null,
   "metadata": {},
   "outputs": [],
   "source": [
    "def TOP_ingredient(df_renamed_rev_test, Recipe_index, rand_delete_index_dict, N, Sim_matrix, Sim_ingredient_list):\n",
    "    P_recipe = []\n",
    "    Top_N_ingredient_name = []\n",
    "    All_ingredient_name = []\n",
    "    Recipe_vec = df_renamed_rev_test.iloc[Recipe_index]  # 获得某一个菜的向量表示\n",
    "    Delete_index = rand_delete_index_dict[Recipe_index]  # 获得要随机删除的菜原料的序号\n",
    "    Delete_name = df_renamed_rev_test.columns.values[Delete_index]   # 获得要删除的菜原料的名字\n",
    "\n",
    "    Recipe_vec[Delete_index] = 0  # 随机挖空\n",
    "\n",
    "    for i in range(df_renamed_rev_test.shape[1]):\n",
    "        Numerator = 0\n",
    "        Denominator = 0\n",
    "        for j in Sim_ingredient_list[i]:\n",
    "            Numerator = Numerator + Recipe_vec[j] * Sim_matrix[i, j]\n",
    "            Denominator = Denominator + Sim_matrix[i, j]\n",
    "        P_recipe_i = Numerator / Denominator  # 获得测试的菜跟第i个原料的适合程度\n",
    "        P_recipe.append(P_recipe_i)\n",
    "\n",
    "    Ingredient_index = np.argsort(P_recipe)[::-1]\n",
    "    Top_N_ingredient = Ingredient_index[:N]  # 获得相似度靠前的前n个原料\n",
    "    \n",
    "    Recipe_vec[Delete_index] = 1  # 恢复挖空\n",
    "\n",
    "    for s in Ingredient_index:\n",
    "        All_ingredient_name.append(\n",
    "            df_renamed_rev_test.columns.values[s])  # 按从适合程度高到低排序所有成分\n",
    "\n",
    "    for n in Top_N_ingredient:\n",
    "        Top_N_ingredient_name.append(\n",
    "            df_renamed_rev_test.columns.values[n])  # 获得这个菜前n个适合原料的序列号\n",
    "\n",
    "    for l in range(df_renamed_rev_test.shape[1]):\n",
    "        if All_ingredient_name[l] == Delete_name:\n",
    "            Ingredient_rank = l\n",
    "    Ingredient_rank = Ingredient_rank + 1\n",
    "\n",
    "    return Top_N_ingredient_name, Delete_name, Ingredient_rank"
   ]
  },
  {
   "cell_type": "markdown",
   "metadata": {},
   "source": [
    "# Dataset Split"
   ]
  },
  {
   "cell_type": "code",
   "execution_count": null,
   "metadata": {},
   "outputs": [],
   "source": [
    "def data_split():\n",
    "    df_renamed_rev = pd.read_csv(\"processed_data.csv\")\n",
    "    df_renamed_rev.drop('Unnamed: 0', axis=1, inplace=True)\n",
    "\n",
    "    np.random.seed(1)\n",
    "    df_renamed_rev_shuf = np.random.permutation(df_renamed_rev)\n",
    "    df_renamed_rev_shuf = pd.DataFrame(df_renamed_rev_shuf)\n",
    "    df_renamed_rev_shuf.columns = df_renamed_rev.columns.values\n",
    "    df_renamed_rev_train = df_renamed_rev_shuf.iloc[:34625]\n",
    "    df_renamed_rev_test = df_renamed_rev_shuf.iloc[34625:]\n",
    "    index = np.linspace(0, 3846, 3847, endpoint=True, dtype=int)\n",
    "    df_renamed_rev_test.index = index.tolist()\n",
    "    return df_renamed_rev_train, df_renamed_rev_test"
   ]
  },
  {
   "cell_type": "markdown",
   "metadata": {},
   "source": [
    "# Run test-points and get recall@10, mean, median..."
   ]
  },
  {
   "cell_type": "code",
   "execution_count": null,
   "metadata": {},
   "outputs": [],
   "source": [
    "def test_f(df_renamed_rev_test, test_index, N, K, S):\n",
    "    Rank = []\n",
    "    N_ingredient_list = []\n",
    "\n",
    "    True_label = 0\n",
    "    Whole_label = len(test_index)\n",
    "\n",
    "    for i in range(df_renamed_rev_test.shape[1]):\n",
    "        N_ingredient_list.append(TOP_k_index(S, i, K))\n",
    "\n",
    "    # get rand_delete_index_dict\n",
    "    rand_delete_index_dict = random_delete_index(df_renamed_rev_test, test_index)\n",
    "\n",
    "    for Recipe_i in test_index:\n",
    "        Predict_name, True_name, Predict_rank = TOP_ingredient(\n",
    "            df_renamed_rev_test, Recipe_i, rand_delete_index_dict, N, S, N_ingredient_list)\n",
    "        Rank.append(Predict_rank)\n",
    "        if True_name in Predict_name:\n",
    "            True_label = True_label + 1\n",
    "\n",
    "    Recall = True_label / Whole_label\n",
    "\n",
    "    return Recall, np.mean(Rank), np.median(Rank)"
   ]
  },
  {
   "cell_type": "markdown",
   "metadata": {},
   "source": [
    "# 主函数 (现在可以直接改参数->重复跑)"
   ]
  },
  {
   "cell_type": "markdown",
   "metadata": {},
   "source": [
    "## split the dataset"
   ]
  },
  {
   "cell_type": "code",
   "execution_count": null,
   "metadata": {},
   "outputs": [],
   "source": [
    "df_renamed_rev_train, df_renamed_rev_test = data_split()\n",
    "\n",
    "np.save('base_data_for_pca_PMI.npy', df_renamed_rev_train)  # save the BASE train data for PCA-PMI use"
   ]
  },
  {
   "cell_type": "markdown",
   "metadata": {},
   "source": [
    "## parameter settings"
   ]
  },
  {
   "cell_type": "code",
   "execution_count": null,
   "metadata": {},
   "outputs": [],
   "source": [
    "# current_mode = {'PCA','BASE'}\n",
    "current_mode = 'PCA'\n",
    "\n",
    "# current_similarity_method = {'CS', 'ACS', 'JS', 'PMI'}\n",
    "current_similarity_method = 'PMI'\n",
    "\n",
    "# set # recommendations\n",
    "N = 10\n",
    "\n",
    "# set # neighbours\n",
    "K = 50\n",
    "\n",
    "# num_test_points = {'ALL', number}\n",
    "num_test_points = 'ALL'"
   ]
  },
  {
   "cell_type": "markdown",
   "metadata": {},
   "source": [
    "# RUN"
   ]
  },
  {
   "cell_type": "code",
   "execution_count": null,
   "metadata": {},
   "outputs": [],
   "source": [
    "if current_mode == 'PCA':\n",
    "    pca = PCA(n_components=161)\n",
    "    new_data = pca.fit_transform(df_renamed_rev_train.T)\n",
    "    df_new_data = pd.DataFrame(new_data.T)\n",
    "elif current_mode == 'BASE':\n",
    "    df_new_data = df_renamed_rev_train\n",
    "\n",
    "if num_test_points == 'ALL':\n",
    "    test_index = list(range(df_renamed_rev_test.shape[0]))\n",
    "else:\n",
    "    random.seed(666)\n",
    "    test_index = random.sample(list(df_renamed_rev_test.index), num_test_points)\n",
    "\n",
    "start = time.process_time()\n",
    "\n",
    "S = SIM_matrix(R=df_new_data, similarity_method=current_similarity_method)\n",
    "\n",
    "recall_test, mean_rank_test, median_rank_test = test_f(\n",
    "    df_renamed_rev_test, test_index, N, K, S)\n",
    "print('Recall rate is :%.2f%%' % (recall_test * 100))\n",
    "print('The mean of rank is :%.2f' % (mean_rank_test))\n",
    "print('The median of rank is :%.2f' % (median_rank_test))\n",
    "\n",
    "end = time.process_time()\n",
    "print('Running time: %s Seconds' % (end - start))"
   ]
  },
  {
   "cell_type": "code",
   "execution_count": null,
   "metadata": {},
   "outputs": [],
   "source": []
  }
 ],
 "metadata": {
  "kernelspec": {
   "display_name": "Python 3",
   "language": "python",
   "name": "python3"
  },
  "language_info": {
   "codemirror_mode": {
    "name": "ipython",
    "version": 3
   },
   "file_extension": ".py",
   "mimetype": "text/x-python",
   "name": "python",
   "nbconvert_exporter": "python",
   "pygments_lexer": "ipython3",
   "version": "3.7.4"
  }
 },
 "nbformat": 4,
 "nbformat_minor": 4
}
